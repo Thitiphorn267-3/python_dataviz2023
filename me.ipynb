{
  "nbformat": 4,
  "nbformat_minor": 0,
  "metadata": {
    "colab": {
      "provenance": [],
      "authorship_tag": "ABX9TyPEl+JpgMVh+XirFZoZDhVA",
      "include_colab_link": true
    },
    "kernelspec": {
      "name": "python3",
      "display_name": "Python 3"
    },
    "language_info": {
      "name": "python"
    }
  },
  "cells": [
    {
      "cell_type": "markdown",
      "metadata": {
        "id": "view-in-github",
        "colab_type": "text"
      },
      "source": [
        "<a href=\"https://colab.research.google.com/github/Thitiphorn267-3/python_dataviz2023/blob/main/me.ipynb\" target=\"_parent\"><img src=\"https://colab.research.google.com/assets/colab-badge.svg\" alt=\"Open In Colab\"/></a>"
      ]
    },
    {
      "cell_type": "markdown",
      "source": [
        "###Quiz 1\n",
        "print มาก ที่มี ก 100ตัว"
      ],
      "metadata": {
        "id": "pAW-32DVb5nr"
      }
    },
    {
      "cell_type": "code",
      "source": [
        "'มา'+('ก' *100)"
      ],
      "metadata": {
        "colab": {
          "base_uri": "https://localhost:8080/",
          "height": 36
        },
        "id": "f4pqkObUb-MK",
        "outputId": "6458b689-73fe-4384-9147-ec91ea0da231"
      },
      "execution_count": 17,
      "outputs": [
        {
          "output_type": "execute_result",
          "data": {
            "text/plain": [
              "'มากกกกกกกกกกกกกกกกกกกกกกกกกกกกกกกกกกกกกกกกกกกกกกกกกกกกกกกกกกกกกกกกกกกกกกกกกกกกกกกกกกกกกกกกกกกกกกกกกกกก'"
            ],
            "application/vnd.google.colaboratory.intrinsic+json": {
              "type": "string"
            }
          },
          "metadata": {},
          "execution_count": 17
        }
      ]
    },
    {
      "cell_type": "markdown",
      "source": [
        "###QUIZ2\n",
        "กำหนด list เป็นประโยคคำว่า \"Department of Statistics, Faculty of Scine, Khon Kaen University, Thailand\"\n",
        "\n",
        "1.ตัดมาเฉพาะคำว่า Faculty of Scine\n",
        "2.ตัดแบบเว้นทีละ 3 ตัวอักษร\n",
        "3.ตัดคำว่า Khon Kaen University,Thailand ออกมาแล้วเขียนกลับหลัง"
      ],
      "metadata": {
        "id": "43tQ5R1gaCkP"
      }
    },
    {
      "cell_type": "code",
      "execution_count": 1,
      "metadata": {
        "id": "9ynwbm2OZN9b"
      },
      "outputs": [],
      "source": [
        "list_Q2='Department of Statitics Faculty of Science, Khonkaen University, Thailand'"
      ]
    },
    {
      "cell_type": "code",
      "source": [
        "list_Q2"
      ],
      "metadata": {
        "colab": {
          "base_uri": "https://localhost:8080/",
          "height": 36
        },
        "id": "gYqG3dDPaRaM",
        "outputId": "8ab3e661-280a-4f14-cb4e-282bd0b8a0ee"
      },
      "execution_count": 2,
      "outputs": [
        {
          "output_type": "execute_result",
          "data": {
            "text/plain": [
              "'Department of Statitics Faculty of Science, Khonkaen University, Thailand'"
            ],
            "application/vnd.google.colaboratory.intrinsic+json": {
              "type": "string"
            }
          },
          "metadata": {},
          "execution_count": 2
        }
      ]
    },
    {
      "cell_type": "code",
      "source": [
        "list_Q2[24:42] ##1"
      ],
      "metadata": {
        "colab": {
          "base_uri": "https://localhost:8080/",
          "height": 36
        },
        "id": "hF8F7SOsaRPm",
        "outputId": "af359093-6d7b-402c-b88d-25120a85a653"
      },
      "execution_count": 12,
      "outputs": [
        {
          "output_type": "execute_result",
          "data": {
            "text/plain": [
              "'Faculty of Science'"
            ],
            "application/vnd.google.colaboratory.intrinsic+json": {
              "type": "string"
            }
          },
          "metadata": {},
          "execution_count": 12
        }
      ]
    },
    {
      "cell_type": "code",
      "source": [
        "list_Q2[::3] ##2"
      ],
      "metadata": {
        "colab": {
          "base_uri": "https://localhost:8080/",
          "height": 36
        },
        "id": "xe3E5rL7aWoe",
        "outputId": "5e90c5ed-572d-4366-eb76-7763201cb8c5"
      },
      "execution_count": 5,
      "outputs": [
        {
          "output_type": "execute_result",
          "data": {
            "text/plain": [
              "'DamtfticFuyfcn,hknnei,hld'"
            ],
            "application/vnd.google.colaboratory.intrinsic+json": {
              "type": "string"
            }
          },
          "metadata": {},
          "execution_count": 5
        }
      ]
    },
    {
      "cell_type": "code",
      "source": [
        "list_Q2[43::-1]##3"
      ],
      "metadata": {
        "colab": {
          "base_uri": "https://localhost:8080/",
          "height": 36
        },
        "id": "n1FVmZRKaWlC",
        "outputId": "9cfc2f58-b205-47d2-b4be-f0d67f2c61d1"
      },
      "execution_count": 6,
      "outputs": [
        {
          "output_type": "execute_result",
          "data": {
            "text/plain": [
              "' ,ecneicS fo ytlucaF scititatS fo tnemtrapeD'"
            ],
            "application/vnd.google.colaboratory.intrinsic+json": {
              "type": "string"
            }
          },
          "metadata": {},
          "execution_count": 6
        }
      ]
    },
    {
      "cell_type": "markdown",
      "source": [
        "###HW1\n",
        "คำนวณว่าช่วงเวลาต่อไปนี้ ห่างกันกี่ชั่วโมง กี่นาที กี่วินาที (print ออกมาให้สวยงาม)\n",
        "\n",
        "12:30:15 - 13:41:07\n",
        "09:11:50 - 21:30:15\n",
        "19:25:30 - 03:10:15"
      ],
      "metadata": {
        "id": "zERV-3zfaidf"
      }
    },
    {
      "cell_type": "code",
      "source": [
        "# 12:30:15 - 13:41:07\n",
        "q1 = '12:30:15'\n",
        "Q1 = q1.split(\":\")\n",
        "hours1 = int(Q1[0])*3600\n",
        "minutes1 = int(Q1[1])*60\n",
        "seconds1 = int(Q1[2])\n",
        "q2 = '13:41:07'\n",
        "Q2 = q2.split(\":\")\n",
        "hours2 = int(Q2[0])*3600\n",
        "minutes2 = int(Q2[1])*60\n",
        "seconds2 = int(Q2[2])\n",
        "f1 =  hours1 + minutes1 + seconds1\n",
        "f2 =  hours2 + minutes2 + seconds2\n",
        "f3 = (f2-f1)\n",
        "rh = int(f3/3600)\n",
        "rm = int((f3%3600)/60)\n",
        "rs = int(f3%60)\n",
        "print(f' ช่วงเวลาจาก {q1} ถึง {q2} ห่างกัน {rh:,} ชั่วโมง {rm:,} นาที {rs:,} วินาที')"
      ],
      "metadata": {
        "colab": {
          "base_uri": "https://localhost:8080/"
        },
        "id": "Lh1nhoddalRi",
        "outputId": "c02caa73-94c9-4ffa-c58a-31c4f44ba944"
      },
      "execution_count": 13,
      "outputs": [
        {
          "output_type": "stream",
          "name": "stdout",
          "text": [
            " ช่วงเวลาจาก 12:30:15 ถึง 13:41:07 ห่างกัน 1 ชั่วโมง 10 นาที 52 วินาที\n"
          ]
        }
      ]
    },
    {
      "cell_type": "code",
      "source": [
        "# 09:11:50 - 21:30:15\n",
        "q1 = '09:11:50'\n",
        "Q1 = q1.split(\":\")\n",
        "hours1 = int(Q1[0])*3600\n",
        "minutes1 = int(Q1[1])*60\n",
        "seconds1 = int(Q1[2])\n",
        "q2 = '21:30:15'\n",
        "Q2 = q2.split(\":\")\n",
        "hours2 = int(Q2[0])*3600\n",
        "minutes2 = int(Q2[1])*60\n",
        "seconds2 = int(Q2[2])\n",
        "f1 =  hours1 + minutes1 + seconds1\n",
        "f2 =  hours2 + minutes2 + seconds2\n",
        "f3 = (f2-f1)\n",
        "rh = int(f3/3600)\n",
        "rm = int((f3%3600)/60)\n",
        "rs = int(f3%60)\n",
        "print(f' ช่วงเวลาจาก {q1} ถึง {q2} ห่างกัน {rh:,} ชั่วโมง {rm:,} นาที {rs:,} วินาที')"
      ],
      "metadata": {
        "colab": {
          "base_uri": "https://localhost:8080/"
        },
        "id": "Hm1QASrWaxmU",
        "outputId": "8064edb2-9d31-41ff-ffda-45c32d71cb13"
      },
      "execution_count": 14,
      "outputs": [
        {
          "output_type": "stream",
          "name": "stdout",
          "text": [
            " ช่วงเวลาจาก 09:11:50 ถึง 21:30:15 ห่างกัน 12 ชั่วโมง 18 นาที 25 วินาที\n"
          ]
        }
      ]
    },
    {
      "cell_type": "code",
      "source": [
        "### แก้ไข\n",
        "q5 = '03:10:15'\n",
        "Q5 = q5.split(\":\")\n",
        "hours5 = int(Q5[0])*3600\n",
        "minutes5 = int(Q5[1])*60\n",
        "seconds5 = int(Q5[2])\n",
        "f5 =  hours5 + minutes5 + seconds5\n",
        "print(f' {q5} แปลงเป็นวินาที ได้ {f5:,} วินาที')\n",
        "\n",
        "q6 = '19:25:30'\n",
        "Q6 = q6.split(\":\")\n",
        "hours6 = int(Q6[0])*3600\n",
        "minutes6 = int(Q6[1])*60\n",
        "seconds6 = int(Q6[2])\n",
        "f6 =  hours6 + minutes6 + seconds6\n",
        "print(f' {q6} แปลงเป็นวินาที ได้ {f6:,} วินาที')\n",
        "\n",
        "f7 = (f5+86400)-f6\n",
        "\n",
        "hr = int(f7/3600)\n",
        "mn = int((f7%3600)/60)\n",
        "s = int(f7%60)\n",
        "print(f' จาก {q5} ถึง {q6} ห่างกัน {hr:,} ชั่วโมง {mn:,} นาที {s:,} วินาที')"
      ],
      "metadata": {
        "colab": {
          "base_uri": "https://localhost:8080/"
        },
        "id": "5hmWspgVaxi4",
        "outputId": "a22f8eb7-0e61-433c-f5ee-7dfd83f8821b"
      },
      "execution_count": 15,
      "outputs": [
        {
          "output_type": "stream",
          "name": "stdout",
          "text": [
            " 03:10:15 แปลงเป็นวินาที ได้ 11,415 วินาที\n",
            " 19:25:30 แปลงเป็นวินาที ได้ 69,930 วินาที\n",
            " จาก 03:10:15 ถึง 19:25:30 ห่างกัน 7 ชั่วโมง 44 นาที 45 วินาที\n"
          ]
        }
      ]
    },
    {
      "cell_type": "markdown",
      "source": [
        "##HW2\n",
        "สร้าง logo พรรคก้าวไกล"
      ],
      "metadata": {
        "id": "4vsMKbsya8Cc"
      }
    },
    {
      "cell_type": "code",
      "source": [
        "import numpy as np # import เเล้วเปลี่ยนชื่อ จาก numpy เป็น np"
      ],
      "metadata": {
        "id": "SUZMFFl4a_bX"
      },
      "execution_count": 7,
      "outputs": []
    },
    {
      "cell_type": "code",
      "source": [
        "ส้ม = np.ones((21,16))\n",
        "ส้ม[2:5,2:14] = 88\n",
        "ส้ม[5:7,12:14] = 88\n",
        "ส้ม[6:8,12:13] = 88\n",
        "ส้ม[7:9,11:13] = 88\n",
        "ส้ม[8:10,11:12] = 88\n",
        "ส้ม[9:10,10:11] = 88\n",
        "ส้ม[10:11,10:12] = 88\n",
        "ส้ม[11:12,9:11] = 88\n",
        "ส้ม[12:13,9:11] = 88\n",
        "ส้ม[13:14,8:10] = 88\n",
        "ส้ม[14:15,8:10] = 88\n",
        "ส้ม[15:16,7:9] = 88\n",
        "ส้ม[16:17,7:9] = 88\n",
        "ส้ม[17:18,6:8] = 88\n",
        "ส้ม[18:19,6:8] = 88\n",
        "\n",
        "ส้ม[7,3:10] = 88\n",
        "ส้ม[8,3:9] = 88\n",
        "ส้ม[9,7:9] = 88\n",
        "ส้ม[10,6:8] = 88\n",
        "ส้ม[11,6:8] = 88\n",
        "ส้ม[12,5:7] = 88\n",
        "ส้ม[13,5:7] = 88\n",
        "ส้ม[14,5] = 88\n",
        "\n",
        "print(ส้ม)"
      ],
      "metadata": {
        "colab": {
          "base_uri": "https://localhost:8080/"
        },
        "id": "gpqN_-aga_2p",
        "outputId": "7600ad8a-b23c-4561-f4ca-9fd3fcf1d33a"
      },
      "execution_count": 9,
      "outputs": [
        {
          "output_type": "stream",
          "name": "stdout",
          "text": [
            "[[ 1.  1.  1.  1.  1.  1.  1.  1.  1.  1.  1.  1.  1.  1.  1.  1.]\n",
            " [ 1.  1.  1.  1.  1.  1.  1.  1.  1.  1.  1.  1.  1.  1.  1.  1.]\n",
            " [ 1.  1. 88. 88. 88. 88. 88. 88. 88. 88. 88. 88. 88. 88.  1.  1.]\n",
            " [ 1.  1. 88. 88. 88. 88. 88. 88. 88. 88. 88. 88. 88. 88.  1.  1.]\n",
            " [ 1.  1. 88. 88. 88. 88. 88. 88. 88. 88. 88. 88. 88. 88.  1.  1.]\n",
            " [ 1.  1.  1.  1.  1.  1.  1.  1.  1.  1.  1.  1. 88. 88.  1.  1.]\n",
            " [ 1.  1.  1.  1.  1.  1.  1.  1.  1.  1.  1.  1. 88. 88.  1.  1.]\n",
            " [ 1.  1.  1. 88. 88. 88. 88. 88. 88. 88.  1. 88. 88.  1.  1.  1.]\n",
            " [ 1.  1.  1. 88. 88. 88. 88. 88. 88.  1.  1. 88. 88.  1.  1.  1.]\n",
            " [ 1.  1.  1.  1.  1.  1.  1. 88. 88.  1. 88. 88.  1.  1.  1.  1.]\n",
            " [ 1.  1.  1.  1.  1.  1. 88. 88.  1.  1. 88. 88.  1.  1.  1.  1.]\n",
            " [ 1.  1.  1.  1.  1.  1. 88. 88.  1. 88. 88.  1.  1.  1.  1.  1.]\n",
            " [ 1.  1.  1.  1.  1. 88. 88.  1.  1. 88. 88.  1.  1.  1.  1.  1.]\n",
            " [ 1.  1.  1.  1.  1. 88. 88.  1. 88. 88.  1.  1.  1.  1.  1.  1.]\n",
            " [ 1.  1.  1.  1.  1. 88.  1.  1. 88. 88.  1.  1.  1.  1.  1.  1.]\n",
            " [ 1.  1.  1.  1.  1.  1.  1. 88. 88.  1.  1.  1.  1.  1.  1.  1.]\n",
            " [ 1.  1.  1.  1.  1.  1.  1. 88. 88.  1.  1.  1.  1.  1.  1.  1.]\n",
            " [ 1.  1.  1.  1.  1.  1. 88. 88.  1.  1.  1.  1.  1.  1.  1.  1.]\n",
            " [ 1.  1.  1.  1.  1.  1. 88. 88.  1.  1.  1.  1.  1.  1.  1.  1.]\n",
            " [ 1.  1.  1.  1.  1.  1.  1.  1.  1.  1.  1.  1.  1.  1.  1.  1.]\n",
            " [ 1.  1.  1.  1.  1.  1.  1.  1.  1.  1.  1.  1.  1.  1.  1.  1.]]\n"
          ]
        }
      ]
    },
    {
      "cell_type": "code",
      "source": [
        "def กก(x):\n",
        " ส้ม = x * np.ones((21,16))\n",
        "\n",
        " ส้ม[2:5,2:14] = 88\n",
        " ส้ม[5:7,12:14] = 88\n",
        " ส้ม[6:8,12:13] = 88\n",
        " ส้ม[7:9,11:13] = 88\n",
        " ส้ม[8:10,11:12] = 88\n",
        " ส้ม[9:10,10:11] = 88\n",
        " ส้ม[10:11,10:12] = 88\n",
        " ส้ม[11:12,9:11] = 88\n",
        " ส้ม[12:13,9:11] = 88\n",
        " ส้ม[13:14,8:10] = 88\n",
        " ส้ม[14:15,8:10] = 88\n",
        " ส้ม[15:16,7:9] = 88\n",
        " ส้ม[16:17,7:9] = 88\n",
        " ส้ม[17:18,6:8] = 88\n",
        " ส้ม[18:19,6:8] = 88\n",
        "\n",
        " ส้ม[7,3:10] = 88\n",
        " ส้ม[8,3:9] = 88\n",
        " ส้ม[9,7:9] = 88\n",
        " ส้ม[10,6:8] = 88\n",
        " ส้ม[11,6:8] = 88\n",
        " ส้ม[12,5:7] = 88\n",
        " ส้ม[13,5:7] = 88\n",
        " ส้ม[14,5] = 88\n",
        "\n",
        "\n",
        "\n",
        " print(ส้ม)"
      ],
      "metadata": {
        "id": "vZKycPF6bRFC"
      },
      "execution_count": 10,
      "outputs": []
    },
    {
      "cell_type": "code",
      "source": [
        "กก(7)"
      ],
      "metadata": {
        "colab": {
          "base_uri": "https://localhost:8080/"
        },
        "id": "MxYT8HMTbVxB",
        "outputId": "d54cec75-3a1c-49a6-c84b-1be9b8168344"
      },
      "execution_count": 11,
      "outputs": [
        {
          "output_type": "stream",
          "name": "stdout",
          "text": [
            "[[ 7.  7.  7.  7.  7.  7.  7.  7.  7.  7.  7.  7.  7.  7.  7.  7.]\n",
            " [ 7.  7.  7.  7.  7.  7.  7.  7.  7.  7.  7.  7.  7.  7.  7.  7.]\n",
            " [ 7.  7. 88. 88. 88. 88. 88. 88. 88. 88. 88. 88. 88. 88.  7.  7.]\n",
            " [ 7.  7. 88. 88. 88. 88. 88. 88. 88. 88. 88. 88. 88. 88.  7.  7.]\n",
            " [ 7.  7. 88. 88. 88. 88. 88. 88. 88. 88. 88. 88. 88. 88.  7.  7.]\n",
            " [ 7.  7.  7.  7.  7.  7.  7.  7.  7.  7.  7.  7. 88. 88.  7.  7.]\n",
            " [ 7.  7.  7.  7.  7.  7.  7.  7.  7.  7.  7.  7. 88. 88.  7.  7.]\n",
            " [ 7.  7.  7. 88. 88. 88. 88. 88. 88. 88.  7. 88. 88.  7.  7.  7.]\n",
            " [ 7.  7.  7. 88. 88. 88. 88. 88. 88.  7.  7. 88. 88.  7.  7.  7.]\n",
            " [ 7.  7.  7.  7.  7.  7.  7. 88. 88.  7. 88. 88.  7.  7.  7.  7.]\n",
            " [ 7.  7.  7.  7.  7.  7. 88. 88.  7.  7. 88. 88.  7.  7.  7.  7.]\n",
            " [ 7.  7.  7.  7.  7.  7. 88. 88.  7. 88. 88.  7.  7.  7.  7.  7.]\n",
            " [ 7.  7.  7.  7.  7. 88. 88.  7.  7. 88. 88.  7.  7.  7.  7.  7.]\n",
            " [ 7.  7.  7.  7.  7. 88. 88.  7. 88. 88.  7.  7.  7.  7.  7.  7.]\n",
            " [ 7.  7.  7.  7.  7. 88.  7.  7. 88. 88.  7.  7.  7.  7.  7.  7.]\n",
            " [ 7.  7.  7.  7.  7.  7.  7. 88. 88.  7.  7.  7.  7.  7.  7.  7.]\n",
            " [ 7.  7.  7.  7.  7.  7.  7. 88. 88.  7.  7.  7.  7.  7.  7.  7.]\n",
            " [ 7.  7.  7.  7.  7.  7. 88. 88.  7.  7.  7.  7.  7.  7.  7.  7.]\n",
            " [ 7.  7.  7.  7.  7.  7. 88. 88.  7.  7.  7.  7.  7.  7.  7.  7.]\n",
            " [ 7.  7.  7.  7.  7.  7.  7.  7.  7.  7.  7.  7.  7.  7.  7.  7.]\n",
            " [ 7.  7.  7.  7.  7.  7.  7.  7.  7.  7.  7.  7.  7.  7.  7.  7.]]\n"
          ]
        }
      ]
    }
  ]
}